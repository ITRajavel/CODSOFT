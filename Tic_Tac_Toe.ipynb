{
  "nbformat": 4,
  "nbformat_minor": 0,
  "metadata": {
    "colab": {
      "provenance": [],
      "authorship_tag": "ABX9TyO5mbdYhn+s6r8ANAb80V01",
      "include_colab_link": true
    },
    "kernelspec": {
      "name": "python3",
      "display_name": "Python 3"
    },
    "language_info": {
      "name": "python"
    }
  },
  "cells": [
    {
      "cell_type": "markdown",
      "metadata": {
        "id": "view-in-github",
        "colab_type": "text"
      },
      "source": [
        "<a href=\"https://colab.research.google.com/github/ITRajavel/CODSOFT/blob/main/Tic_Tac_Toe.ipynb\" target=\"_parent\"><img src=\"https://colab.research.google.com/assets/colab-badge.svg\" alt=\"Open In Colab\"/></a>"
      ]
    },
    {
      "cell_type": "code",
      "execution_count": null,
      "metadata": {
        "colab": {
          "base_uri": "https://localhost:8080/"
        },
        "id": "ncN0r78wox4E",
        "outputId": "1a6600e1-25de-41ad-f4d7-10c8cc9f281f"
      },
      "outputs": [
        {
          "metadata": {
            "tags": null
          },
          "name": "stdout",
          "output_type": "stream",
          "text": [
            "Let's start the game! Player 'X' goes first.\n",
            " | | \n",
            "-----\n",
            " | | \n",
            "-----\n",
            " | | \n",
            "-----\n"
          ]
        }
      ],
      "source": [
        "def print_board(board):\n",
        "    for row in board:\n",
        "        print(\"|\".join(row))\n",
        "        print(\"-----\")\n",
        "\n",
        "\n",
        "def check_winner(board, player):\n",
        "    for row in board:\n",
        "        if all([cell == player for cell in row]):\n",
        "            return True\n",
        "\n",
        "    for col in range(3):\n",
        "        if all([board[row][col] == player for row in range(3)]):\n",
        "            return True\n",
        "\n",
        "    if all([board[i][i] == player for i in range(3)]) or all([board[i][2 - i] == player for i in range(3)]):\n",
        "        return True\n",
        "\n",
        "    return False\n",
        "\n",
        "\n",
        "def is_board_full(board):\n",
        "    return all([cell != \" \" for row in board for cell in row])\n",
        "\n",
        "\n",
        "def play_game():\n",
        "    board = [[\" \" for _ in range(3)] for _ in range(3)]\n",
        "    current_player = \"X\"\n",
        "    print(\"Let's start the game! Player 'X' goes first.\")\n",
        "    while True:\n",
        "        print_board(board)\n",
        "        row = int(input(f\"Player {current_player}, enter row (0, 1, 2): \"))\n",
        "        col = int(input(f\"Player {current_player}, enter column (0, 1, 2): \"))\n",
        "\n",
        "        if board[row][col] != \" \":\n",
        "            print(\"Cell already filled. Try again.\")\n",
        "            continue\n",
        "\n",
        "        board[row][col] = current_player\n",
        "\n",
        "        if check_winner(board, current_player):\n",
        "            print_board(board)\n",
        "            print(f\"Player {current_player} wins!\")\n",
        "            break\n",
        "\n",
        "        if is_board_full(board):\n",
        "            print_board(board)\n",
        "            print(\"It's a tie!\")\n",
        "            break\n",
        "\n",
        "        current_player = \"O\" if current_player == \"X\" else \"X\"\n",
        "\n",
        "\n",
        "if __name__ == \"__main__\":\n",
        "    play_game()"
      ]
    }
  ]
}