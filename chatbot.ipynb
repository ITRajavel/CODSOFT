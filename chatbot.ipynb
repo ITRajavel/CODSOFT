{
  "cells": [
    {
      "cell_type": "markdown",
      "metadata": {
        "id": "view-in-github",
        "colab_type": "text"
      },
      "source": [
        "<a href=\"https://colab.research.google.com/github/ITRajavel/CODSOFT/blob/main/chatbot.ipynb\" target=\"_parent\"><img src=\"https://colab.research.google.com/assets/colab-badge.svg\" alt=\"Open In Colab\"/></a>"
      ]
    },
    {
      "cell_type": "code",
      "execution_count": null,
      "metadata": {
        "colab": {
          "background_save": true,
          "base_uri": "https://localhost:8080/"
        },
        "id": "VVMjsRBLMUhT",
        "outputId": "3ebbac42-c41e-4f30-af67-4a3d81a3f50a"
      },
      "outputs": [
        {
          "name": "stdout",
          "output_type": "stream",
          "text": [
            "Hello! I'm a simple chatbot. Type 'quit' to exit.\n",
            "Bot: Hi there!\n",
            "Bot: None\n",
            "Bot: I'm just a bot.\n"
          ]
        }
      ],
      "source": [
        "import nltk\n",
        "from nltk.chat.util import Chat, reflections\n",
        "pairs = [\n",
        "    [\"hi|hello|hey\", [\"Hello!\", \"Hi there!\"]],\n",
        "    [\"how are you?\", [\"I'm good, thank you.\", \"I'm just a bot, but I'm functioning well!\"]],\n",
        "    [\"what's your name?\", [\"I'm a chatbot.\", \"I'm just a bot.\"]],\n",
        "    [\"bye|goodbye\", [\"Goodbye!\", \"See you later!\"]],\n",
        "]\n",
        "chatbot = Chat(pairs, reflections)\n",
        "print(\"Hello! I'm a simple chatbot. Type 'quit' to exit.\")\n",
        "while True:\n",
        "    user_input = input(\"You: \")\n",
        "    if user_input.lower() == 'quit':\n",
        "        break\n",
        "    response = chatbot.respond(user_input)\n",
        "    print(\"Bot:\", response)"
      ]
    }
  ],
  "metadata": {
    "colab": {
      "provenance": [],
      "authorship_tag": "ABX9TyMjeySPNcApoJ0lelyGURab",
      "include_colab_link": true
    },
    "kernelspec": {
      "display_name": "Python 3",
      "name": "python3"
    },
    "language_info": {
      "name": "python"
    }
  },
  "nbformat": 4,
  "nbformat_minor": 0
}